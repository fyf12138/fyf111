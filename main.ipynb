{
 "cells": [
  {
   "cell_type": "markdown",
   "metadata": {},
   "source": [
    "## 思路介绍"
   ]
  },
  {
   "cell_type": "markdown",
   "metadata": {},
   "source": [
    "<font size=5>本项目是一个较为基础的二分类任务。\n",
    "考虑到有29个输入特征，因此可以考虑使用较为简单的前馈全连接神经网络进行建模。\n",
    "本项目大致步骤分为：</font>\n",
    "![](https://ai-studio-static-online.cdn.bcebos.com/e3d9c46c5c82413db44086d61fad24179a64567df7a74d788416ef78922f85ce)\n",
    "\n"
   ]
  },
  {
   "cell_type": "markdown",
   "metadata": {},
   "source": [
    "<font size=5>具体数据处理与调优策略详见代码注释部分</font>"
   ]
  },
  {
   "cell_type": "markdown",
   "metadata": {},
   "source": [
    "## 导入所需要的包"
   ]
  },
  {
   "cell_type": "code",
   "execution_count": 1,
   "metadata": {
    "collapsed": false,
    "execution": {
     "iopub.execute_input": "2022-11-04T04:34:35.868762Z",
     "iopub.status.busy": "2022-11-04T04:34:35.867904Z",
     "iopub.status.idle": "2022-11-04T04:34:38.531591Z",
     "shell.execute_reply": "2022-11-04T04:34:38.530738Z",
     "shell.execute_reply.started": "2022-11-04T04:34:35.868734Z"
    },
    "jupyter": {
     "outputs_hidden": false
    },
    "scrolled": true
   },
   "outputs": [
    {
     "name": "stderr",
     "output_type": "stream",
     "text": [
      "/opt/conda/envs/python35-paddle120-env/lib/python3.7/site-packages/matplotlib/__init__.py:107: DeprecationWarning: Using or importing the ABCs from 'collections' instead of from 'collections.abc' is deprecated, and in 3.8 it will stop working\n",
      "  from collections import MutableMapping\n",
      "/opt/conda/envs/python35-paddle120-env/lib/python3.7/site-packages/matplotlib/rcsetup.py:20: DeprecationWarning: Using or importing the ABCs from 'collections' instead of from 'collections.abc' is deprecated, and in 3.8 it will stop working\n",
      "  from collections import Iterable, Mapping\n",
      "/opt/conda/envs/python35-paddle120-env/lib/python3.7/site-packages/matplotlib/colors.py:53: DeprecationWarning: Using or importing the ABCs from 'collections' instead of from 'collections.abc' is deprecated, and in 3.8 it will stop working\n",
      "  from collections import Sized\n"
     ]
    }
   ],
   "source": [
    "import pandas as pd  #数据分析库\n",
    "import paddle  \n",
    "import numpy as np  #科学计算库\n",
    "import seaborn as sns   #可视化库\n",
    "\n",
    "#读取csv文件\n",
    "train_data = pd.read_csv('data/data137276/train.csv.zip')\n",
    "test_data = pd.read_csv('data/data137276/test.csv.zip')\n",
    "\n",
    "#数据预处理\n",
    "train_data = train_data.drop(['id', 'timecc'], axis=1)\n",
    "test_data = test_data.drop(['id', 'timecc'], axis=1)"
   ]
  },
  {
   "cell_type": "markdown",
   "metadata": {},
   "source": [
    "## 归一化"
   ]
  },
  {
   "cell_type": "code",
   "execution_count": 2,
   "metadata": {
    "collapsed": false,
    "execution": {
     "iopub.execute_input": "2022-11-04T04:34:41.829564Z",
     "iopub.status.busy": "2022-11-04T04:34:41.828753Z",
     "iopub.status.idle": "2022-11-04T04:34:42.093192Z",
     "shell.execute_reply": "2022-11-04T04:34:42.092378Z",
     "shell.execute_reply.started": "2022-11-04T04:34:41.829533Z"
    },
    "jupyter": {
     "outputs_hidden": false
    },
    "scrolled": true
   },
   "outputs": [],
   "source": [
    "#通过每个元素除以其最大值的形式进行归一化\n",
    "for col in train_data.columns[1:]:\n",
    "    train_data[col] /= train_data[col].max()\n",
    "    test_data[col] /= test_data[col].max()\n",
    "#对于归一化的操作还可以利用最大-最小归一化或者均值-方差归一化，这里采用简单的最大值法进行归一化#"
   ]
  },
  {
   "cell_type": "markdown",
   "metadata": {},
   "source": [
    "## 搭建模型"
   ]
  },
  {
   "cell_type": "code",
   "execution_count": null,
   "metadata": {
    "collapsed": false,
    "execution": {
     "iopub.execute_input": "2022-11-04T04:34:43.786057Z",
     "iopub.status.busy": "2022-11-04T04:34:43.785638Z",
     "iopub.status.idle": "2022-11-04T04:34:43.792256Z",
     "shell.execute_reply": "2022-11-04T04:34:43.791623Z",
     "shell.execute_reply.started": "2022-11-04T04:34:43.786027Z"
    },
    "jupyter": {
     "outputs_hidden": false
    },
    "scrolled": true
   },
   "outputs": [],
   "source": [
    "class Classifier(paddle.nn.Layer):\n",
    "    def __init__(self):\n",
    "        super(Classifier, self).__init__()\n",
    "        \n",
    "        #三层隐藏层，分别为100，50，20个结点\n",
    "        self.fc1 = paddle.nn.Linear(in_features=29, out_features=100)\n",
    "        self.fc2 = paddle.nn.Linear(in_features=100, out_features=50)\n",
    "        self.fc3 = paddle.nn.Linear(in_features=50, out_features=20)\n",
    "        self.fc4 = paddle.nn.Linear(in_features=20, out_features=1)\n",
    "        self.relu = paddle.nn.ReLU()\n",
    "    \n",
    "    # 前馈计算\n",
    "    def forward(self, inputs):\n",
    "        x = self.relu(self.fc1(inputs))\n",
    "        x = self.relu(self.fc2(x))\n",
    "        x = self.relu(self.fc3(x))\n",
    "        x = self.fc4(x)\n",
    "        return x"
   ]
  },
  {
   "cell_type": "markdown",
   "metadata": {},
   "source": [
    "## 模型训练"
   ]
  },
  {
   "cell_type": "code",
   "execution_count": 4,
   "metadata": {
    "collapsed": false,
    "execution": {
     "iopub.execute_input": "2022-11-04T04:34:47.713034Z",
     "iopub.status.busy": "2022-11-04T04:34:47.712256Z",
     "iopub.status.idle": "2022-11-04T04:34:50.588591Z",
     "shell.execute_reply": "2022-11-04T04:34:50.587758Z",
     "shell.execute_reply.started": "2022-11-04T04:34:47.713000Z"
    },
    "jupyter": {
     "outputs_hidden": false
    },
    "scrolled": true
   },
   "outputs": [
    {
     "name": "stderr",
     "output_type": "stream",
     "text": [
      "W1104 12:34:47.715279  2027 device_context.cc:447] Please NOTE: device: 0, GPU Compute Capability: 7.0, Driver API Version: 11.2, Runtime API Version: 10.1\n",
      "W1104 12:34:47.719049  2027 device_context.cc:465] device: 0, cuDNN Version: 7.6.\n"
     ]
    }
   ],
   "source": [
    "#创建模型实例\n",
    "model = Classifier()\n",
    "\n",
    "#模型训练\n",
    "model.train()\n",
    "\n",
    "#定义优化器\n",
    "#采用随机梯度下降法寻优，学习率设置为0.01\n",
    "#这里还可以采用其他优化算法\n",
    "opt = paddle.optimizer.SGD(learning_rate=0.01, parameters=model.parameters())\n",
    "\n",
    "#损失函数\n",
    "#这里也可以使用交叉熵损失\n",
    "loss_fn = paddle.nn.BCEWithLogitsLoss()"
   ]
  },
  {
   "cell_type": "code",
   "execution_count": 7,
   "metadata": {
    "collapsed": false,
    "execution": {
     "iopub.execute_input": "2022-11-04T04:33:17.885450Z",
     "iopub.status.busy": "2022-11-04T04:33:17.884824Z",
     "iopub.status.idle": "2022-11-04T04:33:51.539276Z",
     "shell.execute_reply": "2022-11-04T04:33:51.538238Z",
     "shell.execute_reply.started": "2022-11-04T04:33:17.885419Z"
    },
    "jupyter": {
     "outputs_hidden": false
    },
    "scrolled": true
   },
   "outputs": [
    {
     "name": "stdout",
     "output_type": "stream",
     "text": [
      "epoch: 0, iter: 0, loss is: [0.70042956], acc is [0.48333333]\n",
      "epoch: 0, iter: 200, loss is: [0.67738193], acc is [0.71666667]\n",
      "epoch: 0, iter: 400, loss is: [0.6610948], acc is [0.68333333]\n",
      "epoch: 0, iter: 600, loss is: [0.66419184], acc is [0.69166667]\n",
      "epoch: 0, iter: 800, loss is: [0.6436514], acc is [0.7]\n",
      "epoch: 0, iter: 1000, loss is: [0.6101005], acc is [0.73333333]\n",
      "epoch: 0, iter: 1200, loss is: [0.56124663], acc is [0.80833333]\n",
      "epoch: 0, iter: 1400, loss is: [0.5477344], acc is [0.79166667]\n",
      "epoch: 1, iter: 0, loss is: [0.5378845], acc is [0.78333333]\n",
      "epoch: 1, iter: 200, loss is: [0.5364874], acc is [0.75]\n",
      "epoch: 1, iter: 400, loss is: [0.4506206], acc is [0.80833333]\n",
      "epoch: 1, iter: 600, loss is: [0.46172494], acc is [0.78333333]\n",
      "epoch: 1, iter: 800, loss is: [0.4224408], acc is [0.79166667]\n",
      "epoch: 1, iter: 1000, loss is: [0.47177482], acc is [0.8]\n",
      "epoch: 1, iter: 1200, loss is: [0.44979936], acc is [0.75833333]\n",
      "epoch: 1, iter: 1400, loss is: [0.41606823], acc is [0.825]\n",
      "epoch: 2, iter: 0, loss is: [0.47767395], acc is [0.80833333]\n",
      "epoch: 2, iter: 200, loss is: [0.41624847], acc is [0.825]\n",
      "epoch: 2, iter: 400, loss is: [0.41920692], acc is [0.83333333]\n",
      "epoch: 2, iter: 600, loss is: [0.32278445], acc is [0.88333333]\n",
      "epoch: 2, iter: 800, loss is: [0.35645294], acc is [0.84166667]\n",
      "epoch: 2, iter: 1000, loss is: [0.45140913], acc is [0.775]\n",
      "epoch: 2, iter: 1200, loss is: [0.37283608], acc is [0.81666667]\n",
      "epoch: 2, iter: 1400, loss is: [0.39808795], acc is [0.84166667]\n",
      "epoch: 3, iter: 0, loss is: [0.49044102], acc is [0.775]\n",
      "epoch: 3, iter: 200, loss is: [0.45503405], acc is [0.775]\n",
      "epoch: 3, iter: 400, loss is: [0.35169852], acc is [0.825]\n",
      "epoch: 3, iter: 600, loss is: [0.43815196], acc is [0.79166667]\n",
      "epoch: 3, iter: 800, loss is: [0.36895844], acc is [0.85]\n",
      "epoch: 3, iter: 1000, loss is: [0.4451436], acc is [0.79166667]\n",
      "epoch: 3, iter: 1200, loss is: [0.40243095], acc is [0.78333333]\n",
      "epoch: 3, iter: 1400, loss is: [0.4059642], acc is [0.85]\n",
      "epoch: 4, iter: 0, loss is: [0.32553998], acc is [0.875]\n",
      "epoch: 4, iter: 200, loss is: [0.37955487], acc is [0.80833333]\n",
      "epoch: 4, iter: 400, loss is: [0.43918023], acc is [0.80833333]\n",
      "epoch: 4, iter: 600, loss is: [0.44653487], acc is [0.78333333]\n",
      "epoch: 4, iter: 800, loss is: [0.47899824], acc is [0.78333333]\n",
      "epoch: 4, iter: 1000, loss is: [0.37141496], acc is [0.85]\n",
      "epoch: 4, iter: 1200, loss is: [0.36592996], acc is [0.80833333]\n",
      "epoch: 4, iter: 1400, loss is: [0.38619348], acc is [0.825]\n",
      "epoch: 5, iter: 0, loss is: [0.4043566], acc is [0.86666667]\n",
      "epoch: 5, iter: 200, loss is: [0.34921443], acc is [0.83333333]\n",
      "epoch: 5, iter: 400, loss is: [0.40018594], acc is [0.79166667]\n",
      "epoch: 5, iter: 600, loss is: [0.38239795], acc is [0.85833333]\n",
      "epoch: 5, iter: 800, loss is: [0.36554974], acc is [0.84166667]\n",
      "epoch: 5, iter: 1000, loss is: [0.3891877], acc is [0.83333333]\n",
      "epoch: 5, iter: 1200, loss is: [0.4434188], acc is [0.8]\n",
      "epoch: 5, iter: 1400, loss is: [0.34533447], acc is [0.85]\n",
      "epoch: 6, iter: 0, loss is: [0.25396305], acc is [0.90833333]\n",
      "epoch: 6, iter: 200, loss is: [0.3457743], acc is [0.85833333]\n",
      "epoch: 6, iter: 400, loss is: [0.36620522], acc is [0.825]\n",
      "epoch: 6, iter: 600, loss is: [0.38647416], acc is [0.81666667]\n",
      "epoch: 6, iter: 800, loss is: [0.34549564], acc is [0.84166667]\n",
      "epoch: 6, iter: 1000, loss is: [0.33447033], acc is [0.85833333]\n",
      "epoch: 6, iter: 1200, loss is: [0.3932794], acc is [0.825]\n",
      "epoch: 6, iter: 1400, loss is: [0.44866267], acc is [0.775]\n",
      "epoch: 7, iter: 0, loss is: [0.38901672], acc is [0.85]\n",
      "epoch: 7, iter: 200, loss is: [0.4076703], acc is [0.85]\n",
      "epoch: 7, iter: 400, loss is: [0.39768577], acc is [0.79166667]\n",
      "epoch: 7, iter: 600, loss is: [0.36641005], acc is [0.80833333]\n",
      "epoch: 7, iter: 800, loss is: [0.40265974], acc is [0.83333333]\n",
      "epoch: 7, iter: 1000, loss is: [0.39478293], acc is [0.81666667]\n",
      "epoch: 7, iter: 1200, loss is: [0.25200006], acc is [0.925]\n",
      "epoch: 7, iter: 1400, loss is: [0.37713775], acc is [0.80833333]\n",
      "epoch: 8, iter: 0, loss is: [0.4116524], acc is [0.79166667]\n",
      "epoch: 8, iter: 200, loss is: [0.3856256], acc is [0.81666667]\n",
      "epoch: 8, iter: 400, loss is: [0.3253324], acc is [0.85833333]\n",
      "epoch: 8, iter: 600, loss is: [0.3517248], acc is [0.86666667]\n",
      "epoch: 8, iter: 800, loss is: [0.4300748], acc is [0.81666667]\n",
      "epoch: 8, iter: 1000, loss is: [0.36474898], acc is [0.825]\n",
      "epoch: 8, iter: 1200, loss is: [0.42518646], acc is [0.8]\n",
      "epoch: 8, iter: 1400, loss is: [0.3810445], acc is [0.825]\n",
      "epoch: 9, iter: 0, loss is: [0.3816866], acc is [0.83333333]\n",
      "epoch: 9, iter: 200, loss is: [0.4070891], acc is [0.80833333]\n",
      "epoch: 9, iter: 400, loss is: [0.3990093], acc is [0.825]\n",
      "epoch: 9, iter: 600, loss is: [0.33214608], acc is [0.825]\n",
      "epoch: 9, iter: 800, loss is: [0.374332], acc is [0.85]\n",
      "epoch: 9, iter: 1000, loss is: [0.37859327], acc is [0.8]\n",
      "epoch: 9, iter: 1200, loss is: [0.37589893], acc is [0.85]\n",
      "epoch: 9, iter: 1400, loss is: [0.30722582], acc is [0.83333333]\n",
      "epoch: 10, iter: 0, loss is: [0.3500262], acc is [0.80833333]\n",
      "epoch: 10, iter: 200, loss is: [0.3655342], acc is [0.86666667]\n",
      "epoch: 10, iter: 400, loss is: [0.338767], acc is [0.84166667]\n",
      "epoch: 10, iter: 600, loss is: [0.29670352], acc is [0.85]\n",
      "epoch: 10, iter: 800, loss is: [0.4662417], acc is [0.74166667]\n",
      "epoch: 10, iter: 1000, loss is: [0.34906805], acc is [0.80833333]\n",
      "epoch: 10, iter: 1200, loss is: [0.34249783], acc is [0.85833333]\n",
      "epoch: 10, iter: 1400, loss is: [0.35098276], acc is [0.85]\n",
      "epoch: 11, iter: 0, loss is: [0.3198508], acc is [0.85]\n",
      "epoch: 11, iter: 200, loss is: [0.39466324], acc is [0.80833333]\n",
      "epoch: 11, iter: 400, loss is: [0.33561137], acc is [0.81666667]\n",
      "epoch: 11, iter: 600, loss is: [0.36851525], acc is [0.825]\n",
      "epoch: 11, iter: 800, loss is: [0.3729933], acc is [0.81666667]\n",
      "epoch: 11, iter: 1000, loss is: [0.48504135], acc is [0.78333333]\n",
      "epoch: 11, iter: 1200, loss is: [0.3832078], acc is [0.84166667]\n",
      "epoch: 11, iter: 1400, loss is: [0.43933225], acc is [0.775]\n",
      "epoch: 12, iter: 0, loss is: [0.37115842], acc is [0.775]\n",
      "epoch: 12, iter: 200, loss is: [0.39266545], acc is [0.825]\n",
      "epoch: 12, iter: 400, loss is: [0.3347857], acc is [0.84166667]\n",
      "epoch: 12, iter: 600, loss is: [0.40731335], acc is [0.79166667]\n",
      "epoch: 12, iter: 800, loss is: [0.35298905], acc is [0.84166667]\n",
      "epoch: 12, iter: 1000, loss is: [0.24320757], acc is [0.91666667]\n",
      "epoch: 12, iter: 1200, loss is: [0.3430762], acc is [0.825]\n",
      "epoch: 12, iter: 1400, loss is: [0.3453921], acc is [0.825]\n",
      "epoch: 13, iter: 0, loss is: [0.4024841], acc is [0.8]\n",
      "epoch: 13, iter: 200, loss is: [0.43748665], acc is [0.81666667]\n",
      "epoch: 13, iter: 400, loss is: [0.24957108], acc is [0.88333333]\n",
      "epoch: 13, iter: 600, loss is: [0.38449728], acc is [0.825]\n",
      "epoch: 13, iter: 800, loss is: [0.33362943], acc is [0.825]\n",
      "epoch: 13, iter: 1000, loss is: [0.32480898], acc is [0.86666667]\n",
      "epoch: 13, iter: 1200, loss is: [0.36455336], acc is [0.86666667]\n",
      "epoch: 13, iter: 1400, loss is: [0.28223556], acc is [0.85]\n",
      "epoch: 14, iter: 0, loss is: [0.33150655], acc is [0.85833333]\n",
      "epoch: 14, iter: 200, loss is: [0.35050052], acc is [0.80833333]\n",
      "epoch: 14, iter: 400, loss is: [0.35810506], acc is [0.81666667]\n",
      "epoch: 14, iter: 600, loss is: [0.2848408], acc is [0.9]\n",
      "epoch: 14, iter: 800, loss is: [0.34159958], acc is [0.83333333]\n",
      "epoch: 14, iter: 1000, loss is: [0.38195372], acc is [0.81666667]\n",
      "epoch: 14, iter: 1200, loss is: [0.32997215], acc is [0.85833333]\n",
      "epoch: 14, iter: 1400, loss is: [0.33645996], acc is [0.86666667]\n"
     ]
    }
   ],
   "source": [
    "EPOCH_NUM = 15   # 外层循环次数       #可设置更多轮数\n",
    "BATCH_SIZE = 120  # 设置batch大小      #通过多次测试，发现batch_size=120时效果较好\n",
    "\n",
    "training_data = train_data.iloc[:-1000,].values.astype(np.float32)\n",
    "val_data = train_data.iloc[-1000:, ].values.astype(np.float32)\n",
    "\n",
    "for epoch_id in range(EPOCH_NUM):\n",
    "    np.random.shuffle(training_data)\n",
    "    \n",
    "    # 将训练数据进行拆分\n",
    "    mini_batches = [training_data[k:k+BATCH_SIZE] for k in range(0, len(training_data), BATCH_SIZE)]\n",
    "    \n",
    "    \n",
    "    for iter_id, mini_batch in enumerate(mini_batches):\n",
    "        x = np.array(mini_batch[:, 1:]) # 获得当前批次训练数据\n",
    "        y = np.array(mini_batch[:, :1]) # 获得当前批次训练标签\n",
    "        \n",
    "        # 将numpy数据转为飞桨动态图tensor的格式\n",
    "        features = paddle.to_tensor(x)\n",
    "        y = paddle.to_tensor(y)\n",
    "        \n",
    "        # 前向计算\n",
    "        predicts = model(features)\n",
    "        \n",
    "        # 计算损失\n",
    "        loss = loss_fn(predicts, y, )\n",
    "        avg_loss = paddle.mean(loss)\n",
    "        if iter_id%200==0:\n",
    "            acc = (predicts > 0).astype(int).flatten() == y.flatten().astype(int)\n",
    "            acc = acc.astype(float).mean()\n",
    "\n",
    "            print(\"epoch: {}, iter: {}, loss is: {}, acc is {}\".format(epoch_id, iter_id, avg_loss.numpy(), acc.numpy()))\n",
    "        \n",
    "        # 反向传播，计算每层参数的梯度值\n",
    "        avg_loss.backward()\n",
    "        # 更新参数，根据设置好的学习率迭代一步\n",
    "        opt.step()\n",
    "        # 清空梯度变量，以备下一轮计算\n",
    "        opt.clear_grad()"
   ]
  },
  {
   "cell_type": "markdown",
   "metadata": {},
   "source": [
    "## 模型预测"
   ]
  },
  {
   "cell_type": "code",
   "execution_count": 5,
   "metadata": {
    "collapsed": false,
    "execution": {
     "iopub.execute_input": "2022-11-04T04:35:49.306666Z",
     "iopub.status.busy": "2022-11-04T04:35:49.305871Z",
     "iopub.status.idle": "2022-11-04T04:35:49.331875Z",
     "shell.execute_reply": "2022-11-04T04:35:49.330870Z",
     "shell.execute_reply.started": "2022-11-04T04:35:49.306634Z"
    },
    "jupyter": {
     "outputs_hidden": false
    },
    "scrolled": true
   },
   "outputs": [],
   "source": [
    "model.eval()    #模型预测\n",
    "test_data = paddle.to_tensor(test_data.values.astype(np.float32))   #将测试数据转换为tensor格式\n",
    "test_predict = model(test_data)     #开始预测\n",
    "test_predict = (test_predict > 0).astype(int).flatten()"
   ]
  },
  {
   "cell_type": "markdown",
   "metadata": {},
   "source": [
    "## 将结果写入csv文件并压缩"
   ]
  },
  {
   "cell_type": "code",
   "execution_count": 7,
   "metadata": {
    "collapsed": false,
    "execution": {
     "iopub.execute_input": "2022-11-04T04:36:38.279990Z",
     "iopub.status.busy": "2022-11-04T04:36:38.279202Z",
     "iopub.status.idle": "2022-11-04T04:36:38.748804Z",
     "shell.execute_reply": "2022-11-04T04:36:38.747662Z",
     "shell.execute_reply.started": "2022-11-04T04:36:38.279958Z"
    },
    "jupyter": {
     "outputs_hidden": false
    },
    "scrolled": true
   },
   "outputs": [
    {
     "name": "stdout",
     "output_type": "stream",
     "text": [
      "  adding: submission.csv (deflated 96%)\n"
     ]
    }
   ],
   "source": [
    "pd.DataFrame({'win':\n",
    "              test_predict.numpy()\n",
    "             }).to_csv('submission.csv', index=None)    #写入csv\n",
    "\n",
    "!zip submission.zip submission.csv  #压缩"
   ]
  }
 ],
 "metadata": {
  "kernelspec": {
   "display_name": "Python 3",
   "language": "python",
   "name": "py35-paddle1.2.0"
  },
  "language_info": {
   "codemirror_mode": {
    "name": "ipython",
    "version": 3
   },
   "file_extension": ".py",
   "mimetype": "text/x-python",
   "name": "python",
   "nbconvert_exporter": "python",
   "pygments_lexer": "ipython3",
   "version": "3.7.4"
  }
 },
 "nbformat": 4,
 "nbformat_minor": 4
}
